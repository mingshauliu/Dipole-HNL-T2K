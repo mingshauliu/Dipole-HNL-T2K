{
 "cells": [
  {
   "cell_type": "code",
   "execution_count": 5,
   "metadata": {},
   "outputs": [
    {
     "name": "stdout",
     "output_type": "stream",
     "text": [
      "Modified contour data saved to t2k5sigma.txt\n"
     ]
    }
   ],
   "source": [
    "import numpy as np\n",
    "import ast\n",
    "\n",
    "def read_contour_level(filename, target_level):\n",
    "    x_coords = []\n",
    "    y_coords = []\n",
    "    current_level = None\n",
    "    found_level = False\n",
    "\n",
    "    with open(filename, 'r') as f:\n",
    "        for line in f:\n",
    "            if line.startswith(\"Contour Level:\"):\n",
    "                # Convert the level string to a float, handling list format\n",
    "                level_str = line.split(\":\")[1].strip()\n",
    "                try:\n",
    "                    current_level = float(level_str)\n",
    "                except ValueError:\n",
    "                    # If it's a list with one element, extract that element\n",
    "                    current_level = ast.literal_eval(level_str)[0]\n",
    "                \n",
    "                if abs(current_level - target_level) < 1e-6:  # Use approximate equality for floats\n",
    "                    found_level = True\n",
    "                elif found_level:\n",
    "                    break  # We've moved past our target level\n",
    "            elif found_level and line.strip():  # Non-empty line with coordinates\n",
    "                x, y = map(float, line.split())\n",
    "                x_coords.append(x)\n",
    "                y_coords.append(y)\n",
    "    return np.array(x_coords), np.array(y_coords)\n",
    "\n",
    "def manipulate_coordinates(x_coords, y_coords):\n",
    "    # Example manipulations:\n",
    "    # 1. Scale x coordinates\n",
    "    x_coords = (10 ** x_coords)\n",
    "    \n",
    "    # 2. Shift y coordinates\n",
    "    y_coords = 10 ** y_coords\n",
    "    \n",
    "    # 3. Remove every other point\n",
    "    x_coords = x_coords[::2]\n",
    "    y_coords = y_coords[::2]\n",
    "    \n",
    "    return x_coords, y_coords\n",
    "\n",
    "def save_modified_contour(filename, level, x_coords, y_coords):\n",
    "    with open(filename, 'w') as f:\n",
    "        for x, y in zip(x_coords, y_coords):\n",
    "            f.write(f\"{x:.32f}\\t{y:.32f}\\n\")\n",
    "\n",
    "# Main execution\n",
    "input_file = 't2k5sigma.txt'\n",
    "output_file = 't2k5sigma.txt'\n",
    "target_level = 1.0953829323373483  # Replace with your desired contour level\n",
    "\n",
    "# Read the specific contour level\n",
    "x_coords, y_coords = read_contour_level(input_file, target_level)\n",
    "\n",
    "if len(x_coords) == 0:\n",
    "    print(f\"No data found for contour level {target_level}\")\n",
    "else:\n",
    "    # Manipulate the coordinates\n",
    "    x_modified, y_modified = manipulate_coordinates(x_coords, y_coords)\n",
    "\n",
    "    # Save the modified contour\n",
    "    save_modified_contour(output_file, target_level, x_modified, y_modified)\n",
    "    print(f\"Modified contour data saved to {output_file}\")"
   ]
  }
 ],
 "metadata": {
  "kernelspec": {
   "display_name": "siren_dn",
   "language": "python",
   "name": "python3"
  },
  "language_info": {
   "codemirror_mode": {
    "name": "ipython",
    "version": 3
   },
   "file_extension": ".py",
   "mimetype": "text/x-python",
   "name": "python",
   "nbconvert_exporter": "python",
   "pygments_lexer": "ipython3",
   "version": "3.12.4"
  }
 },
 "nbformat": 4,
 "nbformat_minor": 2
}
